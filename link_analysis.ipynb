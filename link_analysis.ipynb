{
  "nbformat": 4,
  "nbformat_minor": 0,
  "metadata": {
    "colab": {
      "name": "IR_Assgn6.ipynb",
      "provenance": [],
      "collapsed_sections": []
    },
    "kernelspec": {
      "name": "python3",
      "display_name": "Python 3"
    },
    "accelerator": "TPU"
  },
  "cells": [
    {
      "cell_type": "code",
      "metadata": {
        "id": "ae4S1Sv7hkYF",
        "colab_type": "code",
        "colab": {}
      },
      "source": [
        "from collections import defaultdict\n",
        "from collections import Counter\n",
        "import numpy as np\n",
        "import matplotlib.pyplot as plt\n",
        "import networkx as nx\n",
        "import heapq"
      ],
      "execution_count": 0,
      "outputs": []
    },
    {
      "cell_type": "markdown",
      "metadata": {
        "id": "mGaQ-je6gMFH",
        "colab_type": "text"
      },
      "source": [
        "**reading the given text file**"
      ]
    },
    {
      "cell_type": "code",
      "metadata": {
        "id": "_0-Fnb_fWLLD",
        "colab_type": "code",
        "colab": {}
      },
      "source": [
        "f = open('/content/drive/My Drive/wiki-Vote.txt','r')"
      ],
      "execution_count": 0,
      "outputs": []
    },
    {
      "cell_type": "code",
      "metadata": {
        "id": "17owgK4SfWAa",
        "colab_type": "code",
        "colab": {}
      },
      "source": [
        "read_file = f.read().splitlines(True)"
      ],
      "execution_count": 0,
      "outputs": []
    },
    {
      "cell_type": "markdown",
      "metadata": {
        "id": "IUMSgkURzLCI",
        "colab_type": "text"
      },
      "source": [
        "###**Ques 1**"
      ]
    },
    {
      "cell_type": "markdown",
      "metadata": {
        "id": "5kCwk5Z-zB2n",
        "colab_type": "text"
      },
      "source": [
        "**Creating adjacency list**"
      ]
    },
    {
      "cell_type": "code",
      "metadata": {
        "id": "_DWC_Jbvf_O3",
        "colab_type": "code",
        "colab": {}
      },
      "source": [
        "adjacency_list = defaultdict(list)                     # adjacency list for the graph\n",
        "nodes = set()                                          # set of nodes\n",
        "edges = 0                                              # number of edges\n",
        "\n",
        "# 1st 4 lines in the given text file consists of meta-data. \n",
        "# Thus, started reading after that\n",
        "for line in read_file[4:]:                                  \n",
        "  edges += 1\n",
        "  a = line.split('\\t')\n",
        "  adjacency_list[a[0]].append(a[1].strip('\\n'))\n",
        "  nodes.add(a[0])\n",
        "  nodes.add(a[1].strip('\\n'))"
      ],
      "execution_count": 0,
      "outputs": []
    },
    {
      "cell_type": "code",
      "metadata": {
        "id": "vJoov6uNzIB5",
        "colab_type": "code",
        "outputId": "d5028e32-3394-4161-d3b7-f8d11ce01091",
        "colab": {
          "base_uri": "https://localhost:8080/",
          "height": 34
        }
      },
      "source": [
        "print(len(nodes))"
      ],
      "execution_count": 0,
      "outputs": [
        {
          "output_type": "stream",
          "text": [
            "7115\n"
          ],
          "name": "stdout"
        }
      ]
    },
    {
      "cell_type": "code",
      "metadata": {
        "id": "z7PumTpzzcQn",
        "colab_type": "code",
        "outputId": "865ad61e-e4e9-417e-92f4-56ffa4065cf1",
        "colab": {
          "base_uri": "https://localhost:8080/",
          "height": 34
        }
      },
      "source": [
        "print(edges)"
      ],
      "execution_count": 0,
      "outputs": [
        {
          "output_type": "stream",
          "text": [
            "103689\n"
          ],
          "name": "stdout"
        }
      ]
    },
    {
      "cell_type": "markdown",
      "metadata": {
        "id": "7zij49q-l1o-",
        "colab_type": "text"
      },
      "source": [
        "**Mapping the nodes to serial numbers**"
      ]
    },
    {
      "cell_type": "code",
      "metadata": {
        "id": "BUTh6a4XjzrO",
        "colab_type": "code",
        "colab": {}
      },
      "source": [
        "mapping = defaultdict()\n",
        "\n",
        "count = 0\n",
        "\n",
        "for i in nodes:\n",
        "  mapping[i] = count\n",
        "  count += 1"
      ],
      "execution_count": 0,
      "outputs": []
    },
    {
      "cell_type": "code",
      "metadata": {
        "id": "m1t1AeYsooN6",
        "colab_type": "code",
        "colab": {}
      },
      "source": [
        "mapping"
      ],
      "execution_count": 0,
      "outputs": []
    },
    {
      "cell_type": "markdown",
      "metadata": {
        "id": "4WJx9zX2y7e_",
        "colab_type": "text"
      },
      "source": [
        "**Creating adjacency matrix**"
      ]
    },
    {
      "cell_type": "code",
      "metadata": {
        "id": "erZjvd36w3Xc",
        "colab_type": "code",
        "colab": {}
      },
      "source": [
        "adjacency_matrix = np.zeros([len(nodes),len(nodes)])\n",
        "\n",
        "for node_from in adjacency_list:\n",
        "  i = mapping[node_from]\n",
        "\n",
        "  for node_to in adjacency_list[node_from]:\n",
        "    j = mapping[node_to]\n",
        "    adjacency_matrix[i][j] = 1"
      ],
      "execution_count": 0,
      "outputs": []
    },
    {
      "cell_type": "markdown",
      "metadata": {
        "id": "fOpkVJ9jzh3q",
        "colab_type": "text"
      },
      "source": [
        "**Avg. out-degree**\n",
        "> out-degree of a node is equal to the number of non-zero entries in adjacency matrix in the row of that node"
      ]
    },
    {
      "cell_type": "code",
      "metadata": {
        "id": "37Dvb4n9zlyw",
        "colab_type": "code",
        "colab": {}
      },
      "source": [
        "out_degree_sum = 0\n",
        "\n",
        "for i in range(0,len(nodes)):\n",
        "  # extracting the row corresponding to node i from the adjacency matrix\n",
        "  l = adjacency_matrix[i,:]               \n",
        "  out_degree_sum += np.count_nonzero(l)\n",
        "\n",
        "avg_out_degree = out_degree_sum/len(nodes)"
      ],
      "execution_count": 0,
      "outputs": []
    },
    {
      "cell_type": "code",
      "metadata": {
        "id": "uHyQmQWX0KDU",
        "colab_type": "code",
        "outputId": "5f72acfc-a305-4837-b56b-18b81de28ee4",
        "colab": {
          "base_uri": "https://localhost:8080/",
          "height": 34
        }
      },
      "source": [
        "print(avg_out_degree)"
      ],
      "execution_count": 0,
      "outputs": [
        {
          "output_type": "stream",
          "text": [
            "14.573295853829936\n"
          ],
          "name": "stdout"
        }
      ]
    },
    {
      "cell_type": "markdown",
      "metadata": {
        "id": "QCzTFaQm3FNX",
        "colab_type": "text"
      },
      "source": [
        "**Avg. in-degree**\n",
        "\n",
        "> in-degree of a node is equal to the number of non-zero entries in adjacency matrix in the column of that node\n",
        "\n"
      ]
    },
    {
      "cell_type": "code",
      "metadata": {
        "id": "fxF8gfQa0dDh",
        "colab_type": "code",
        "colab": {}
      },
      "source": [
        "in_degree_sum = 0\n",
        "\n",
        "for i in range(0,len(nodes)):\n",
        "  # extracting the column corresponding to node i from the adjacency matrix\n",
        "  l = adjacency_matrix[:,i]                   \n",
        "  in_degree_sum += np.count_nonzero(l)\n",
        "\n",
        "avg_in_degree = in_degree_sum/len(nodes)"
      ],
      "execution_count": 0,
      "outputs": []
    },
    {
      "cell_type": "code",
      "metadata": {
        "id": "g4TGAQeg5vwD",
        "colab_type": "code",
        "outputId": "73e4b552-9187-4138-d869-bd37ce570a9f",
        "colab": {
          "base_uri": "https://localhost:8080/",
          "height": 34
        }
      },
      "source": [
        "print(avg_in_degree)"
      ],
      "execution_count": 0,
      "outputs": [
        {
          "output_type": "stream",
          "text": [
            "14.573295853829936\n"
          ],
          "name": "stdout"
        }
      ]
    },
    {
      "cell_type": "markdown",
      "metadata": {
        "id": "BcXNSFCI9z1O",
        "colab_type": "text"
      },
      "source": [
        "**Max out-degree**"
      ]
    },
    {
      "cell_type": "code",
      "metadata": {
        "id": "z_MOjX8I819Q",
        "colab_type": "code",
        "colab": {}
      },
      "source": [
        "out_degree = []\n",
        "\n",
        "for i in range(0,len(nodes)):\n",
        "  l = adjacency_matrix[i,:]            # extracting the row corresponding to ith node\n",
        "  out_degree.append((np.count_nonzero(l),i))\n",
        "\n",
        "max_out = max(out_degree, key = lambda x : x[0])"
      ],
      "execution_count": 0,
      "outputs": []
    },
    {
      "cell_type": "code",
      "metadata": {
        "id": "sVAl0e_b-uNv",
        "colab_type": "code",
        "outputId": "94afb78e-9aad-4da2-971a-4c6947f1c339",
        "colab": {
          "base_uri": "https://localhost:8080/",
          "height": 51
        }
      },
      "source": [
        "for key,value in mapping.items():\n",
        "  if(value == max_out[1]):\n",
        "    print(\"The node with maximum out-degree is\",key)\n",
        "\n",
        "print(\"Its out-degree is\",max_out[0])"
      ],
      "execution_count": 0,
      "outputs": [
        {
          "output_type": "stream",
          "text": [
            "The node with maximum out-degree is 2565\n",
            "Its out-degree is 893\n"
          ],
          "name": "stdout"
        }
      ]
    },
    {
      "cell_type": "markdown",
      "metadata": {
        "id": "7TRjUHh2ASd-",
        "colab_type": "text"
      },
      "source": [
        "**Max in-degree**"
      ]
    },
    {
      "cell_type": "code",
      "metadata": {
        "id": "Pu40-Hln_v39",
        "colab_type": "code",
        "colab": {}
      },
      "source": [
        "in_degree = []\n",
        "\n",
        "for i in range(0,len(nodes)):\n",
        "  l = adjacency_matrix[:,i]                   # extracting the column corresponding to ith node\n",
        "  in_degree.append((np.count_nonzero(l),i))\n",
        "\n",
        "max_in = max(in_degree, key = lambda x : x[0])"
      ],
      "execution_count": 0,
      "outputs": []
    },
    {
      "cell_type": "code",
      "metadata": {
        "id": "H4B6g4vJApHB",
        "colab_type": "code",
        "outputId": "443bf179-c2b2-4932-985b-4d8031f2f745",
        "colab": {
          "base_uri": "https://localhost:8080/",
          "height": 51
        }
      },
      "source": [
        "for key,value in mapping.items():\n",
        "  if(value == max_in[1]):\n",
        "    print(\"The node with maximum out-degree is\",key)\n",
        "\n",
        "print(\"Its out-degree is\",max_in[0])"
      ],
      "execution_count": 0,
      "outputs": [
        {
          "output_type": "stream",
          "text": [
            "The node with maximum out-degree is 4037\n",
            "Its out-degree is 457\n"
          ],
          "name": "stdout"
        }
      ]
    },
    {
      "cell_type": "markdown",
      "metadata": {
        "id": "NvYl7wyuEc4i",
        "colab_type": "text"
      },
      "source": [
        "**Network Density**\n",
        "\n",
        "> density = edges / nodes(nodes-1)\n",
        "\n"
      ]
    },
    {
      "cell_type": "code",
      "metadata": {
        "id": "eV9oDfD6BHS6",
        "colab_type": "code",
        "outputId": "a024627f-b681-4426-d293-ff15d40d8571",
        "colab": {
          "base_uri": "https://localhost:8080/",
          "height": 34
        }
      },
      "source": [
        "N = len(nodes)\n",
        "density = edges/(N * (N-1))\n",
        "print(density)"
      ],
      "execution_count": 0,
      "outputs": [
        {
          "output_type": "stream",
          "text": [
            "0.0020485375110809584\n"
          ],
          "name": "stdout"
        }
      ]
    },
    {
      "cell_type": "markdown",
      "metadata": {
        "id": "mylnbbV3K55H",
        "colab_type": "text"
      },
      "source": [
        "**Degree Distribution**"
      ]
    },
    {
      "cell_type": "markdown",
      "metadata": {
        "id": "DskkreFwU2yl",
        "colab_type": "text"
      },
      "source": [
        "in-degree distribution"
      ]
    },
    {
      "cell_type": "code",
      "metadata": {
        "id": "PcohQ-rLUAO2",
        "colab_type": "code",
        "colab": {}
      },
      "source": [
        "in_count = []\n",
        "\n",
        "for i in in_degree:\n",
        "  in_count.append(i[0])\n",
        "\n",
        "x1 = []\n",
        "y1 = []\n",
        "\n",
        "for key,value in Counter(in_count).items():\n",
        "  x1.append(key)\n",
        "  y1.append(value)"
      ],
      "execution_count": 0,
      "outputs": []
    },
    {
      "cell_type": "markdown",
      "metadata": {
        "id": "d0sZ4J-wU6Ah",
        "colab_type": "text"
      },
      "source": [
        "out-degree distribution"
      ]
    },
    {
      "cell_type": "code",
      "metadata": {
        "id": "CckDLElMUger",
        "colab_type": "code",
        "colab": {}
      },
      "source": [
        "out_count = []\n",
        "\n",
        "for i in out_degree:\n",
        "  out_count.append(i[0])\n",
        "\n",
        "x2 = []\n",
        "y2 = []\n",
        "\n",
        "for key,value in Counter(out_count).items():\n",
        "  x2.append(key)\n",
        "  y2.append(value)"
      ],
      "execution_count": 0,
      "outputs": []
    },
    {
      "cell_type": "code",
      "metadata": {
        "id": "YZ8Ys7ovUwTt",
        "colab_type": "code",
        "outputId": "98c36fd6-bddb-4708-881b-3fbde5f55c1c",
        "colab": {
          "base_uri": "https://localhost:8080/",
          "height": 610
        }
      },
      "source": [
        "f, axs = plt.subplots(2,2,figsize=(10,10))\n",
        "\n",
        "plt.subplot(211)\n",
        "plt.plot(x1,y1,'g^')\n",
        "plt.xlim(0, 900)\n",
        "plt.ylim(0, 100)\n",
        "plt.ylabel(\"in-degree\")\n",
        "plt.xlabel(\"Number of nodes\")\n",
        "\n",
        "plt.subplot(212)\n",
        "plt.plot(x2,y2,'g^')\n",
        "plt.xlim(0, 900)\n",
        "plt.ylim(0, 100)\n",
        "plt.ylabel(\"out-degree\")\n",
        "plt.xlabel(\"Number of nodes\")\n",
        "\n",
        "plt.show()"
      ],
      "execution_count": 0,
      "outputs": [
        {
          "output_type": "display_data",
          "data": {
            "image/png": "[encoded data removed]",
            "text/plain": [
              "<Figure size 720x720 with 2 Axes>"
            ]
          },
          "metadata": {
            "tags": [],
            "needs_background": "light"
          }
        }
      ]
    },
    {
      "cell_type": "markdown",
      "metadata": {
        "id": "qKRZoI6HduK6",
        "colab_type": "text"
      },
      "source": [
        "**Clustering Coefficient**"
      ]
    },
    {
      "cell_type": "code",
      "metadata": {
        "id": "BQO0Vm30HSe8",
        "colab_type": "code",
        "colab": {}
      },
      "source": [
        "# reference : https://core.ac.uk/download/pdf/54929154.pdf\n",
        "\n",
        "A = adjacency_matrix\n",
        "A_t = A.transpose()\n",
        "\n",
        "temp = A + A_t\n",
        "temp1 = np.dot(temp,temp)\n",
        "d_num = np.dot(temp1,temp)\n",
        "\n",
        "d_reciprocal = np.dot(A,A)"
      ],
      "execution_count": 0,
      "outputs": []
    },
    {
      "cell_type": "code",
      "metadata": {
        "id": "BtRt3sQf5n_E",
        "colab_type": "code",
        "colab": {}
      },
      "source": [
        "def cluster_coeff(A):\n",
        "  clustering_coeff = defaultdict(lambda:0.0)\n",
        "\n",
        "  n = len(A)\n",
        "  for i in range(n):\n",
        "    degree_i = out_count[i] + in_count[i]\n",
        "\n",
        "    if(degree_i < 2):                                  \n",
        "      clustering_coeff[i] = 0              # node with 0 neighbours has clustering coeff = 0\n",
        "    else:\n",
        "      clustering_coeff[i] = d_num[i][i]/(2*degree_i*(degree_i - 1) - d_reciprocal[i][i])\n",
        "  \n",
        "  return clustering_coeff"
      ],
      "execution_count": 0,
      "outputs": []
    },
    {
      "cell_type": "code",
      "metadata": {
        "id": "UAca8NOLU0dk",
        "colab_type": "code",
        "colab": {}
      },
      "source": [
        "clustering_coeff = cluster_coeff(adjacency_matrix)"
      ],
      "execution_count": 0,
      "outputs": []
    },
    {
      "cell_type": "code",
      "metadata": {
        "id": "TIqXau5BN09P",
        "colab_type": "code",
        "colab": {}
      },
      "source": [
        "clustering_coeff "
      ],
      "execution_count": 0,
      "outputs": []
    },
    {
      "cell_type": "markdown",
      "metadata": {
        "id": "VTUSDM5V9T8G",
        "colab_type": "text"
      },
      "source": [
        "clustering coefficient distribution"
      ]
    },
    {
      "cell_type": "code",
      "metadata": {
        "id": "B-ldwRva9F74",
        "colab_type": "code",
        "outputId": "429a9ed4-2dbf-47a3-8e4e-c5fd2aaeea01",
        "colab": {
          "base_uri": "https://localhost:8080/",
          "height": 606
        }
      },
      "source": [
        "plt.figure(figsize=(10,10))\n",
        "\n",
        "plt.plot(list(mapping.values()),list(clustering_coeff.values()),'g+')\n",
        "\n",
        "plt.ylabel(\"Clustering Coefficient\")\n",
        "plt.xlabel(\"Nodes\")\n",
        "plt.show()"
      ],
      "execution_count": 0,
      "outputs": [
        {
          "output_type": "display_data",
          "data": {
            "image/png": "[encoded data removed]",
            "text/plain": [
              "<Figure size 720x720 with 1 Axes>"
            ]
          },
          "metadata": {
            "tags": [],
            "needs_background": "light"
          }
        }
      ]
    },
    {
      "cell_type": "markdown",
      "metadata": {
        "id": "H8GXX4sxxyla",
        "colab_type": "text"
      },
      "source": [
        "**Degree Centrality**\n",
        "\n",
        "\n",
        "> The degree centrality for a node v is the fraction of nodes it is connected to."
      ]
    },
    {
      "cell_type": "code",
      "metadata": {
        "id": "FR_zO1KqyEHC",
        "colab_type": "code",
        "colab": {}
      },
      "source": [
        "deg_central = defaultdict(lambda:0.0)\n",
        "\n",
        "for i in range(len(nodes)):\n",
        "  k = out_count[i] + in_count[i]          # number of neighbouring nodes\n",
        "  deg_central[i] = k/len(nodes)"
      ],
      "execution_count": 0,
      "outputs": []
    },
    {
      "cell_type": "code",
      "metadata": {
        "id": "B1D6dFeij26j",
        "colab_type": "code",
        "colab": {}
      },
      "source": [
        "deg_central"
      ],
      "execution_count": 0,
      "outputs": []
    },
    {
      "cell_type": "markdown",
      "metadata": {
        "id": "qENMt0W0zCJD",
        "colab_type": "text"
      },
      "source": [
        "###**Ques 2**"
      ]
    },
    {
      "cell_type": "markdown",
      "metadata": {
        "id": "XSaP8K93kfRI",
        "colab_type": "text"
      },
      "source": [
        "**creating networkx graph from adjacency matrix**"
      ]
    },
    {
      "cell_type": "code",
      "metadata": {
        "id": "1AnXHNzxaIaP",
        "colab_type": "code",
        "colab": {}
      },
      "source": [
        "G = nx.from_numpy_matrix(adjacency_matrix, parallel_edges = False, create_using=nx.DiGraph)"
      ],
      "execution_count": 0,
      "outputs": []
    },
    {
      "cell_type": "markdown",
      "metadata": {
        "id": "g5TEKkm8e6Mn",
        "colab_type": "text"
      },
      "source": [
        "**Rank of each node**"
      ]
    },
    {
      "cell_type": "code",
      "metadata": {
        "id": "62bcFbdbV6io",
        "colab_type": "code",
        "colab": {}
      },
      "source": [
        "rank = nx.pagerank(G)"
      ],
      "execution_count": 0,
      "outputs": []
    },
    {
      "cell_type": "code",
      "metadata": {
        "id": "mBrnSF2BacfT",
        "colab_type": "code",
        "outputId": "e687b9fb-d59d-45ab-9b36-96ba46a1cf54",
        "colab": {
          "base_uri": "https://localhost:8080/",
          "height": 1000
        }
      },
      "source": [
        "rank"
      ],
      "execution_count": 0,
      "outputs": [
        {
          "output_type": "execute_result",
          "data": {
            "text/plain": [
              "{0: 0.0004984872561325486,\n",
              " 1: 0.0007088859208279406,\n",
              " 2: 0.00021565626563317325,\n",
              " 3: 5.048782345863015e-05,\n",
              " 4: 5.048782345863015e-05,\n",
              " 5: 5.048782345863015e-05,\n",
              " 6: 5.048782345863015e-05,\n",
              " 7: 5.048782345863015e-05,\n",
              " 8: 5.048782345863015e-05,\n",
              " 9: 5.048782345863015e-05,\n",
              " 10: 0.0001107747048979973,\n",
              " 11: 5.048782345863015e-05,\n",
              " 12: 5.048782345863015e-05,\n",
              " 13: 6.582699034438123e-05,\n",
              " 14: 5.048782345863015e-05,\n",
              " 15: 5.048782345863015e-05,\n",
              " 16: 5.048782345863015e-05,\n",
              " 17: 5.048782345863015e-05,\n",
              " 18: 5.048782345863015e-05,\n",
              " 19: 5.048782345863015e-05,\n",
              " 20: 5.048782345863015e-05,\n",
              " 21: 5.048782345863015e-05,\n",
              " 22: 5.048782345863015e-05,\n",
              " 23: 5.048782345863015e-05,\n",
              " 24: 5.048782345863015e-05,\n",
              " 25: 6.078586683229992e-05,\n",
              " 26: 5.048782345863015e-05,\n",
              " 27: 0.00013070416911440568,\n",
              " 28: 5.048782345863015e-05,\n",
              " 29: 5.048782345863015e-05,\n",
              " 30: 5.048782345863015e-05,\n",
              " 31: 5.048782345863015e-05,\n",
              " 32: 5.048782345863015e-05,\n",
              " 33: 7.874363296929917e-05,\n",
              " 34: 0.0003757097896936111,\n",
              " 35: 5.048782345863015e-05,\n",
              " 36: 5.048782345863015e-05,\n",
              " 37: 5.048782345863015e-05,\n",
              " 38: 5.048782345863015e-05,\n",
              " 39: 5.048782345863015e-05,\n",
              " 40: 0.0001435276557303063,\n",
              " 41: 0.00017000041067416792,\n",
              " 42: 5.048782345863015e-05,\n",
              " 43: 5.4692830066851535e-05,\n",
              " 44: 5.048782345863015e-05,\n",
              " 45: 5.048782345863015e-05,\n",
              " 46: 5.048782345863015e-05,\n",
              " 47: 5.048782345863015e-05,\n",
              " 48: 0.0002990025509240001,\n",
              " 49: 5.048782345863015e-05,\n",
              " 50: 5.048782345863015e-05,\n",
              " 51: 5.048782345863015e-05,\n",
              " 52: 5.048782345863015e-05,\n",
              " 53: 0.0010692214109883239,\n",
              " 54: 5.048782345863015e-05,\n",
              " 55: 5.048782345863015e-05,\n",
              " 56: 0.000877644635452901,\n",
              " 57: 0.00043391403066212646,\n",
              " 58: 0.0001167485875140885,\n",
              " 59: 5.048782345863015e-05,\n",
              " 60: 0.0003139172473828103,\n",
              " 61: 5.048782345863015e-05,\n",
              " 62: 7.970682554702459e-05,\n",
              " 63: 0.0005162208478547962,\n",
              " 64: 5.048782345863015e-05,\n",
              " 65: 5.048782345863015e-05,\n",
              " 66: 5.048782345863015e-05,\n",
              " 67: 5.048782345863015e-05,\n",
              " 68: 5.048782345863015e-05,\n",
              " 69: 5.048782345863015e-05,\n",
              " 70: 5.048782345863015e-05,\n",
              " 71: 7.933188625687285e-05,\n",
              " 72: 5.048782345863015e-05,\n",
              " 73: 0.00017393564565284624,\n",
              " 74: 5.048782345863015e-05,\n",
              " 75: 0.00023985198248638627,\n",
              " 76: 5.048782345863015e-05,\n",
              " 77: 0.00022515720226049,\n",
              " 78: 0.00010242162029977098,\n",
              " 79: 7.464948141610079e-05,\n",
              " 80: 5.048782345863015e-05,\n",
              " 81: 0.00030844009867644353,\n",
              " 82: 5.048782345863015e-05,\n",
              " 83: 5.048782345863015e-05,\n",
              " 84: 5.048782345863015e-05,\n",
              " 85: 0.0016209567580411299,\n",
              " 86: 6.0549923160309887e-05,\n",
              " 87: 0.00021817707153687477,\n",
              " 88: 5.048782345863015e-05,\n",
              " 89: 6.889283132149876e-05,\n",
              " 90: 0.0003500815741772619,\n",
              " 91: 0.00011099137616889613,\n",
              " 92: 5.048782345863015e-05,\n",
              " 93: 0.0008462057494015229,\n",
              " 94: 5.048782345863015e-05,\n",
              " 95: 0.0007307046493685506,\n",
              " 96: 0.0007536026809319523,\n",
              " 97: 5.048782345863015e-05,\n",
              " 98: 6.741808805341192e-05,\n",
              " 99: 0.0005630126167804341,\n",
              " 100: 5.048782345863015e-05,\n",
              " 101: 0.000552902849258411,\n",
              " 102: 0.0001815761501077335,\n",
              " 103: 5.048782345863015e-05,\n",
              " 104: 5.048782345863015e-05,\n",
              " 105: 7.518790847315309e-05,\n",
              " 106: 5.048782345863015e-05,\n",
              " 107: 0.00019438911878462393,\n",
              " 108: 0.000139924055169658,\n",
              " 109: 5.048782345863015e-05,\n",
              " 110: 5.048782345863015e-05,\n",
              " 111: 5.048782345863015e-05,\n",
              " 112: 5.048782345863015e-05,\n",
              " 113: 5.048782345863015e-05,\n",
              " 114: 5.048782345863015e-05,\n",
              " 115: 5.048782345863015e-05,\n",
              " 116: 5.048782345863015e-05,\n",
              " 117: 5.048782345863015e-05,\n",
              " 118: 5.048782345863015e-05,\n",
              " 119: 5.048782345863015e-05,\n",
              " 120: 0.0002830689742475821,\n",
              " 121: 7.132282130820525e-05,\n",
              " 122: 0.00016856303141997957,\n",
              " 123: 5.048782345863015e-05,\n",
              " 124: 5.048782345863015e-05,\n",
              " 125: 5.048782345863015e-05,\n",
              " 126: 5.048782345863015e-05,\n",
              " 127: 0.00029940448398504656,\n",
              " 128: 0.00048118480231915063,\n",
              " 129: 5.048782345863015e-05,\n",
              " 130: 0.00017534748257302935,\n",
              " 131: 0.00025411740727909716,\n",
              " 132: 0.00039491759568026184,\n",
              " 133: 0.0008688422725943212,\n",
              " 134: 0.00030155968423566256,\n",
              " 135: 5.048782345863015e-05,\n",
              " 136: 5.048782345863015e-05,\n",
              " 137: 5.048782345863015e-05,\n",
              " 138: 5.048782345863015e-05,\n",
              " 139: 5.048782345863015e-05,\n",
              " 140: 0.0006669484685027028,\n",
              " 141: 5.048782345863015e-05,\n",
              " 142: 5.048782345863015e-05,\n",
              " 143: 0.0001272967795595272,\n",
              " 144: 0.0005023689272194693,\n",
              " 145: 5.048782345863015e-05,\n",
              " 146: 5.048782345863015e-05,\n",
              " 147: 5.048782345863015e-05,\n",
              " 148: 5.048782345863015e-05,\n",
              " 149: 0.00019622527825750144,\n",
              " 150: 0.000138561298539514,\n",
              " 151: 5.048782345863015e-05,\n",
              " 152: 5.048782345863015e-05,\n",
              " 153: 0.0001824262098340557,\n",
              " 154: 5.048782345863015e-05,\n",
              " 155: 8.7970425263454e-05,\n",
              " 156: 9.12596883655885e-05,\n",
              " 157: 5.048782345863015e-05,\n",
              " 158: 0.00019803405890564944,\n",
              " 159: 5.048782345863015e-05,\n",
              " 160: 7.201341238685267e-05,\n",
              " 161: 0.0001736775777030508,\n",
              " 162: 5.048782345863015e-05,\n",
              " 163: 5.048782345863015e-05,\n",
              " 164: 0.00039382379784489135,\n",
              " 165: 5.048782345863015e-05,\n",
              " 166: 5.048782345863015e-05,\n",
              " 167: 5.048782345863015e-05,\n",
              " 168: 5.048782345863015e-05,\n",
              " 169: 5.048782345863015e-05,\n",
              " 170: 5.048782345863015e-05,\n",
              " 171: 5.048782345863015e-05,\n",
              " 172: 5.048782345863015e-05,\n",
              " 173: 5.048782345863015e-05,\n",
              " 174: 5.048782345863015e-05,\n",
              " 175: 5.048782345863015e-05,\n",
              " 176: 5.048782345863015e-05,\n",
              " 177: 5.048782345863015e-05,\n",
              " 178: 0.00010675280128723509,\n",
              " 179: 5.048782345863015e-05,\n",
              " 180: 5.048782345863015e-05,\n",
              " 181: 0.0002997298280418322,\n",
              " 182: 0.0012961508663821566,\n",
              " 183: 0.00010218561635328803,\n",
              " 184: 5.048782345863015e-05,\n",
              " 185: 0.00037469962585110357,\n",
              " 186: 5.048782345863015e-05,\n",
              " 187: 5.048782345863015e-05,\n",
              " 188: 6.791013925220633e-05,\n",
              " 189: 7.654500355274061e-05,\n",
              " 190: 0.00027799918390257163,\n",
              " 191: 7.843794865035674e-05,\n",
              " 192: 5.048782345863015e-05,\n",
              " 193: 5.048782345863015e-05,\n",
              " 194: 5.048782345863015e-05,\n",
              " 195: 5.048782345863015e-05,\n",
              " 196: 7.341833383756051e-05,\n",
              " 197: 5.880831355248954e-05,\n",
              " 198: 0.0003018960562833053,\n",
              " 199: 5.048782345863015e-05,\n",
              " 200: 0.0009495051440874033,\n",
              " 201: 5.048782345863015e-05,\n",
              " 202: 0.00017255202638346054,\n",
              " 203: 5.048782345863015e-05,\n",
              " 204: 5.048782345863015e-05,\n",
              " 205: 5.048782345863015e-05,\n",
              " 206: 5.048782345863015e-05,\n",
              " 207: 5.048782345863015e-05,\n",
              " 208: 5.048782345863015e-05,\n",
              " 209: 0.0004050431025965104,\n",
              " 210: 0.0005131168971589018,\n",
              " 211: 5.048782345863015e-05,\n",
              " 212: 5.048782345863015e-05,\n",
              " 213: 5.9090581221350296e-05,\n",
              " 214: 0.0004031178527710944,\n",
              " 215: 0.00019760748647504333,\n",
              " 216: 5.048782345863015e-05,\n",
              " 217: 5.048782345863015e-05,\n",
              " 218: 5.048782345863015e-05,\n",
              " 219: 0.0004720587101675681,\n",
              " 220: 5.048782345863015e-05,\n",
              " 221: 5.048782345863015e-05,\n",
              " 222: 5.048782345863015e-05,\n",
              " 223: 5.048782345863015e-05,\n",
              " 224: 5.048782345863015e-05,\n",
              " 225: 0.00033583829175231044,\n",
              " 226: 5.048782345863015e-05,\n",
              " 227: 5.048782345863015e-05,\n",
              " 228: 0.0005377503309214852,\n",
              " 229: 0.00012511179778162875,\n",
              " 230: 5.048782345863015e-05,\n",
              " 231: 5.048782345863015e-05,\n",
              " 232: 5.048782345863015e-05,\n",
              " 233: 5.048782345863015e-05,\n",
              " 234: 5.048782345863015e-05,\n",
              " 235: 5.048782345863015e-05,\n",
              " 236: 5.048782345863015e-05,\n",
              " 237: 5.048782345863015e-05,\n",
              " 238: 5.048782345863015e-05,\n",
              " 239: 5.048782345863015e-05,\n",
              " 240: 5.048782345863015e-05,\n",
              " 241: 5.048782345863015e-05,\n",
              " 242: 5.048782345863015e-05,\n",
              " 243: 0.00012161877616655158,\n",
              " 244: 0.00029161732427370927,\n",
              " 245: 0.0016599199669365442,\n",
              " 246: 0.00027203631903427125,\n",
              " 247: 5.048782345863015e-05,\n",
              " 248: 5.048782345863015e-05,\n",
              " 249: 0.0002192122526978436,\n",
              " 250: 5.048782345863015e-05,\n",
              " 251: 5.048782345863015e-05,\n",
              " 252: 5.048782345863015e-05,\n",
              " 253: 5.048782345863015e-05,\n",
              " 254: 5.048782345863015e-05,\n",
              " 255: 6.254887662976284e-05,\n",
              " 256: 5.048782345863015e-05,\n",
              " 257: 5.048782345863015e-05,\n",
              " 258: 5.048782345863015e-05,\n",
              " 259: 5.048782345863015e-05,\n",
              " 260: 5.048782345863015e-05,\n",
              " 261: 5.934090964050438e-05,\n",
              " 262: 0.00012296226524326215,\n",
              " 263: 5.048782345863015e-05,\n",
              " 264: 5.048782345863015e-05,\n",
              " 265: 5.048782345863015e-05,\n",
              " 266: 5.048782345863015e-05,\n",
              " 267: 0.00024295638566954725,\n",
              " 268: 5.048782345863015e-05,\n",
              " 269: 6.656435254335408e-05,\n",
              " 270: 0.0002475230418588994,\n",
              " 271: 5.048782345863015e-05,\n",
              " 272: 5.048782345863015e-05,\n",
              " 273: 5.048782345863015e-05,\n",
              " 274: 5.048782345863015e-05,\n",
              " 275: 0.00048020234339167636,\n",
              " 276: 5.048782345863015e-05,\n",
              " 277: 0.0001689189708158437,\n",
              " 278: 0.0006159459382906068,\n",
              " 279: 0.00037731788841368534,\n",
              " 280: 5.048782345863015e-05,\n",
              " 281: 5.048782345863015e-05,\n",
              " 282: 5.048782345863015e-05,\n",
              " 283: 5.048782345863015e-05,\n",
              " 284: 5.048782345863015e-05,\n",
              " 285: 5.048782345863015e-05,\n",
              " 286: 7.246572775575408e-05,\n",
              " 287: 5.048782345863015e-05,\n",
              " 288: 5.048782345863015e-05,\n",
              " 289: 0.0003135388476436205,\n",
              " 290: 0.000420683062379144,\n",
              " 291: 5.048782345863015e-05,\n",
              " 292: 5.048782345863015e-05,\n",
              " 293: 8.010403759090648e-05,\n",
              " 294: 5.048782345863015e-05,\n",
              " 295: 5.048782345863015e-05,\n",
              " 296: 5.048782345863015e-05,\n",
              " 297: 5.048782345863015e-05,\n",
              " 298: 5.048782345863015e-05,\n",
              " 299: 0.00023989181069030438,\n",
              " 300: 5.048782345863015e-05,\n",
              " 301: 0.00014724872684469242,\n",
              " 302: 5.048782345863015e-05,\n",
              " 303: 5.048782345863015e-05,\n",
              " 304: 8.516850202469361e-05,\n",
              " 305: 5.048782345863015e-05,\n",
              " 306: 5.8844743487375e-05,\n",
              " 307: 5.048782345863015e-05,\n",
              " 308: 5.048782345863015e-05,\n",
              " 309: 5.048782345863015e-05,\n",
              " 310: 5.048782345863015e-05,\n",
              " 311: 5.048782345863015e-05,\n",
              " 312: 5.048782345863015e-05,\n",
              " 313: 5.048782345863015e-05,\n",
              " 314: 5.048782345863015e-05,\n",
              " 315: 5.048782345863015e-05,\n",
              " 316: 0.00011119525896455466,\n",
              " 317: 0.00015327942819653341,\n",
              " 318: 0.0003135028753159754,\n",
              " 319: 5.048782345863015e-05,\n",
              " 320: 5.048782345863015e-05,\n",
              " 321: 5.048782345863015e-05,\n",
              " 322: 5.048782345863015e-05,\n",
              " 323: 5.048782345863015e-05,\n",
              " 324: 5.048782345863015e-05,\n",
              " 325: 5.048782345863015e-05,\n",
              " 326: 5.048782345863015e-05,\n",
              " 327: 5.048782345863015e-05,\n",
              " 328: 5.048782345863015e-05,\n",
              " 329: 7.628672357597052e-05,\n",
              " 330: 5.048782345863015e-05,\n",
              " 331: 0.000943763411741515,\n",
              " 332: 5.048782345863015e-05,\n",
              " 333: 5.048782345863015e-05,\n",
              " 334: 0.00018632856798393783,\n",
              " 335: 5.048782345863015e-05,\n",
              " 336: 0.0001146199941545429,\n",
              " 337: 0.0005767620399660521,\n",
              " 338: 5.048782345863015e-05,\n",
              " 339: 0.00010564745073975368,\n",
              " 340: 5.048782345863015e-05,\n",
              " 341: 5.048782345863015e-05,\n",
              " 342: 0.00014039047712631163,\n",
              " 343: 5.048782345863015e-05,\n",
              " 344: 5.048782345863015e-05,\n",
              " 345: 5.048782345863015e-05,\n",
              " 346: 5.048782345863015e-05,\n",
              " 347: 6.656264904926804e-05,\n",
              " 348: 5.054658546520611e-05,\n",
              " 349: 5.048782345863015e-05,\n",
              " 350: 5.048782345863015e-05,\n",
              " 351: 5.048782345863015e-05,\n",
              " 352: 5.048782345863015e-05,\n",
              " 353: 0.00028515702773882433,\n",
              " 354: 5.048782345863015e-05,\n",
              " 355: 0.00010977742297498796,\n",
              " 356: 5.048782345863015e-05,\n",
              " 357: 5.048782345863015e-05,\n",
              " 358: 0.0006479860100099793,\n",
              " 359: 7.227399476368773e-05,\n",
              " 360: 5.048782345863015e-05,\n",
              " 361: 5.048782345863015e-05,\n",
              " 362: 0.0014598839350747034,\n",
              " 363: 5.048782345863015e-05,\n",
              " 364: 5.048782345863015e-05,\n",
              " 365: 5.048782345863015e-05,\n",
              " 366: 0.0002719796028508776,\n",
              " 367: 0.0004996113837134107,\n",
              " 368: 0.00013336492718270335,\n",
              " 369: 5.048782345863015e-05,\n",
              " 370: 5.048782345863015e-05,\n",
              " 371: 0.001145250816648928,\n",
              " 372: 6.81216384928087e-05,\n",
              " 373: 5.048782345863015e-05,\n",
              " 374: 5.048782345863015e-05,\n",
              " 375: 5.048782345863015e-05,\n",
              " 376: 0.00021640905598463528,\n",
              " 377: 0.0005817147322849336,\n",
              " 378: 5.048782345863015e-05,\n",
              " 379: 0.0004733005060914463,\n",
              " 380: 5.048782345863015e-05,\n",
              " 381: 0.00024500524188666496,\n",
              " 382: 5.048782345863015e-05,\n",
              " 383: 5.048782345863015e-05,\n",
              " 384: 5.048782345863015e-05,\n",
              " 385: 5.048782345863015e-05,\n",
              " 386: 5.048782345863015e-05,\n",
              " 387: 5.048782345863015e-05,\n",
              " 388: 5.048782345863015e-05,\n",
              " 389: 5.048782345863015e-05,\n",
              " 390: 5.048782345863015e-05,\n",
              " 391: 5.048782345863015e-05,\n",
              " 392: 5.048782345863015e-05,\n",
              " 393: 5.048782345863015e-05,\n",
              " 394: 5.048782345863015e-05,\n",
              " 395: 5.048782345863015e-05,\n",
              " 396: 5.048782345863015e-05,\n",
              " 397: 5.048782345863015e-05,\n",
              " 398: 5.048782345863015e-05,\n",
              " 399: 5.048782345863015e-05,\n",
              " 400: 5.048782345863015e-05,\n",
              " 401: 5.048782345863015e-05,\n",
              " 402: 5.048782345863015e-05,\n",
              " 403: 0.00017223160491847383,\n",
              " 404: 5.048782345863015e-05,\n",
              " 405: 5.048782345863015e-05,\n",
              " 406: 5.048782345863015e-05,\n",
              " 407: 0.0003048297185726052,\n",
              " 408: 5.048782345863015e-05,\n",
              " 409: 5.048782345863015e-05,\n",
              " 410: 0.0001240394874039328,\n",
              " 411: 0.00011335321492645947,\n",
              " 412: 5.048782345863015e-05,\n",
              " 413: 0.0006494493455030735,\n",
              " 414: 5.048782345863015e-05,\n",
              " 415: 0.0002918958251652078,\n",
              " 416: 5.048782345863015e-05,\n",
              " 417: 5.048782345863015e-05,\n",
              " 418: 5.048782345863015e-05,\n",
              " 419: 5.048782345863015e-05,\n",
              " 420: 5.048782345863015e-05,\n",
              " 421: 8.026135451346623e-05,\n",
              " 422: 0.00036032472051719357,\n",
              " 423: 5.048782345863015e-05,\n",
              " 424: 5.048782345863015e-05,\n",
              " 425: 0.00013762831906717043,\n",
              " 426: 0.00019399904063356244,\n",
              " 427: 5.048782345863015e-05,\n",
              " 428: 6.311922577635755e-05,\n",
              " 429: 0.0004792812490116649,\n",
              " 430: 8.408326384370826e-05,\n",
              " 431: 6.4992803211948e-05,\n",
              " 432: 5.048782345863015e-05,\n",
              " 433: 5.048782345863015e-05,\n",
              " 434: 5.048782345863015e-05,\n",
              " 435: 5.048782345863015e-05,\n",
              " 436: 5.048782345863015e-05,\n",
              " 437: 5.048782345863015e-05,\n",
              " 438: 0.000700965829977349,\n",
              " 439: 5.048782345863015e-05,\n",
              " 440: 0.0004446453703728764,\n",
              " 441: 5.048782345863015e-05,\n",
              " 442: 5.048782345863015e-05,\n",
              " 443: 5.048782345863015e-05,\n",
              " 444: 0.00011493238470650053,\n",
              " 445: 5.048782345863015e-05,\n",
              " 446: 5.048782345863015e-05,\n",
              " 447: 5.048782345863015e-05,\n",
              " 448: 0.00011272922103765446,\n",
              " 449: 5.048782345863015e-05,\n",
              " 450: 5.048782345863015e-05,\n",
              " 451: 5.048782345863015e-05,\n",
              " 452: 5.048782345863015e-05,\n",
              " 453: 0.0005147957533939919,\n",
              " 454: 5.048782345863015e-05,\n",
              " 455: 5.048782345863015e-05,\n",
              " 456: 0.00027494441050557853,\n",
              " 457: 0.00021112855790682115,\n",
              " 458: 5.048782345863015e-05,\n",
              " 459: 5.048782345863015e-05,\n",
              " 460: 5.048782345863015e-05,\n",
              " 461: 5.048782345863015e-05,\n",
              " 462: 5.048782345863015e-05,\n",
              " 463: 0.0003640010258915392,\n",
              " 464: 5.048782345863015e-05,\n",
              " 465: 6.538215957124133e-05,\n",
              " 466: 5.048782345863015e-05,\n",
              " 467: 5.048782345863015e-05,\n",
              " 468: 5.048782345863015e-05,\n",
              " 469: 5.048782345863015e-05,\n",
              " 470: 5.048782345863015e-05,\n",
              " 471: 0.0005531342842534585,\n",
              " 472: 5.121628738639926e-05,\n",
              " 473: 0.00011432390998339553,\n",
              " 474: 5.048782345863015e-05,\n",
              " 475: 5.048782345863015e-05,\n",
              " 476: 5.048782345863015e-05,\n",
              " 477: 5.048782345863015e-05,\n",
              " 478: 0.0003266355761595042,\n",
              " 479: 0.00038168458236806125,\n",
              " 480: 5.048782345863015e-05,\n",
              " 481: 0.00038831604228042573,\n",
              " 482: 5.048782345863015e-05,\n",
              " 483: 5.048782345863015e-05,\n",
              " 484: 8.519606296775288e-05,\n",
              " 485: 5.048782345863015e-05,\n",
              " 486: 0.0005230511022987326,\n",
              " 487: 0.001357976923532471,\n",
              " 488: 5.048782345863015e-05,\n",
              " 489: 0.0003479492072168918,\n",
              " 490: 0.0004599422655493398,\n",
              " 491: 5.048782345863015e-05,\n",
              " 492: 5.048782345863015e-05,\n",
              " 493: 5.048782345863015e-05,\n",
              " 494: 5.048782345863015e-05,\n",
              " 495: 5.048782345863015e-05,\n",
              " 496: 5.048782345863015e-05,\n",
              " 497: 5.048782345863015e-05,\n",
              " 498: 5.048782345863015e-05,\n",
              " 499: 5.048782345863015e-05,\n",
              " 500: 5.048782345863015e-05,\n",
              " 501: 5.048782345863015e-05,\n",
              " 502: 5.048782345863015e-05,\n",
              " 503: 5.048782345863015e-05,\n",
              " 504: 5.048782345863015e-05,\n",
              " 505: 5.048782345863015e-05,\n",
              " 506: 9.242148701697882e-05,\n",
              " 507: 5.048782345863015e-05,\n",
              " 508: 0.00017492717578552894,\n",
              " 509: 0.00013496775382200744,\n",
              " 510: 0.000537679871069203,\n",
              " 511: 5.048782345863015e-05,\n",
              " 512: 5.048782345863015e-05,\n",
              " 513: 0.0003224025979389968,\n",
              " 514: 5.048782345863015e-05,\n",
              " 515: 5.048782345863015e-05,\n",
              " 516: 5.048782345863015e-05,\n",
              " 517: 5.048782345863015e-05,\n",
              " 518: 0.0002406087372981563,\n",
              " 519: 0.0001090515427048028,\n",
              " 520: 5.048782345863015e-05,\n",
              " 521: 5.048782345863015e-05,\n",
              " 522: 0.0004143701112318992,\n",
              " 523: 8.706306072948793e-05,\n",
              " 524: 0.00031208368045449267,\n",
              " 525: 8.919328787746039e-05,\n",
              " 526: 5.048782345863015e-05,\n",
              " 527: 5.048782345863015e-05,\n",
              " 528: 5.048782345863015e-05,\n",
              " 529: 5.048782345863015e-05,\n",
              " 530: 0.00010834612237518698,\n",
              " 531: 5.048782345863015e-05,\n",
              " 532: 0.00045340115708307266,\n",
              " 533: 0.000528116337318366,\n",
              " 534: 5.048782345863015e-05,\n",
              " 535: 5.048782345863015e-05,\n",
              " 536: 5.048782345863015e-05,\n",
              " 537: 5.048782345863015e-05,\n",
              " 538: 0.00010433913081059413,\n",
              " 539: 5.048782345863015e-05,\n",
              " 540: 5.048782345863015e-05,\n",
              " 541: 6.616046901061594e-05,\n",
              " 542: 5.048782345863015e-05,\n",
              " 543: 5.048782345863015e-05,\n",
              " 544: 5.048782345863015e-05,\n",
              " 545: 0.0002187243404877583,\n",
              " 546: 5.048782345863015e-05,\n",
              " 547: 5.048782345863015e-05,\n",
              " 548: 5.048782345863015e-05,\n",
              " 549: 5.048782345863015e-05,\n",
              " 550: 5.048782345863015e-05,\n",
              " 551: 5.048782345863015e-05,\n",
              " 552: 5.048782345863015e-05,\n",
              " 553: 6.14248550509478e-05,\n",
              " 554: 5.048782345863015e-05,\n",
              " 555: 0.0003008770944888892,\n",
              " 556: 5.048782345863015e-05,\n",
              " 557: 5.048782345863015e-05,\n",
              " 558: 5.048782345863015e-05,\n",
              " 559: 5.048782345863015e-05,\n",
              " 560: 5.048782345863015e-05,\n",
              " 561: 5.048782345863015e-05,\n",
              " 562: 0.00024328851691903075,\n",
              " 563: 0.0004078405327875184,\n",
              " 564: 5.048782345863015e-05,\n",
              " 565: 5.048782345863015e-05,\n",
              " 566: 5.048782345863015e-05,\n",
              " 567: 0.0003625513337293327,\n",
              " 568: 5.048782345863015e-05,\n",
              " 569: 0.001550350337962008,\n",
              " 570: 5.048782345863015e-05,\n",
              " 571: 5.048782345863015e-05,\n",
              " 572: 0.00039835306362498327,\n",
              " 573: 5.048782345863015e-05,\n",
              " 574: 0.00020119355374055033,\n",
              " 575: 0.00023862099442496885,\n",
              " 576: 5.048782345863015e-05,\n",
              " 577: 5.048782345863015e-05,\n",
              " 578: 5.048782345863015e-05,\n",
              " 579: 5.048782345863015e-05,\n",
              " 580: 5.048782345863015e-05,\n",
              " 581: 5.048782345863015e-05,\n",
              " 582: 5.048782345863015e-05,\n",
              " 583: 5.048782345863015e-05,\n",
              " 584: 5.048782345863015e-05,\n",
              " 585: 5.048782345863015e-05,\n",
              " 586: 5.048782345863015e-05,\n",
              " 587: 5.048782345863015e-05,\n",
              " 588: 5.064423723613415e-05,\n",
              " 589: 5.048782345863015e-05,\n",
              " 590: 5.048782345863015e-05,\n",
              " 591: 5.048782345863015e-05,\n",
              " 592: 5.048782345863015e-05,\n",
              " 593: 5.048782345863015e-05,\n",
              " 594: 0.0003491697480664108,\n",
              " 595: 0.00041555175084539357,\n",
              " 596: 5.048782345863015e-05,\n",
              " 597: 5.048782345863015e-05,\n",
              " 598: 5.048782345863015e-05,\n",
              " 599: 5.048782345863015e-05,\n",
              " 600: 0.00020390291937558649,\n",
              " 601: 5.048782345863015e-05,\n",
              " 602: 5.048782345863015e-05,\n",
              " 603: 5.048782345863015e-05,\n",
              " 604: 5.048782345863015e-05,\n",
              " 605: 6.220886634320525e-05,\n",
              " 606: 5.048782345863015e-05,\n",
              " 607: 5.048782345863015e-05,\n",
              " 608: 0.0002980291277413958,\n",
              " 609: 5.048782345863015e-05,\n",
              " 610: 5.048782345863015e-05,\n",
              " 611: 5.048782345863015e-05,\n",
              " 612: 0.00042680356040239323,\n",
              " 613: 5.048782345863015e-05,\n",
              " 614: 5.048782345863015e-05,\n",
              " 615: 0.00011258431556706653,\n",
              " 616: 0.0001650920287724404,\n",
              " 617: 5.048782345863015e-05,\n",
              " 618: 5.048782345863015e-05,\n",
              " 619: 5.048782345863015e-05,\n",
              " 620: 5.048782345863015e-05,\n",
              " 621: 0.001254456521317543,\n",
              " 622: 5.048782345863015e-05,\n",
              " 623: 9.74067382849163e-05,\n",
              " 624: 5.048782345863015e-05,\n",
              " 625: 0.00015767839935274823,\n",
              " 626: 5.048782345863015e-05,\n",
              " 627: 5.048782345863015e-05,\n",
              " 628: 0.0001831693060620149,\n",
              " 629: 5.048782345863015e-05,\n",
              " 630: 0.0002159514802254453,\n",
              " 631: 0.0003867015433666969,\n",
              " 632: 5.048782345863015e-05,\n",
              " 633: 5.048782345863015e-05,\n",
              " 634: 5.048782345863015e-05,\n",
              " 635: 5.048782345863015e-05,\n",
              " 636: 5.048782345863015e-05,\n",
              " 637: 5.048782345863015e-05,\n",
              " 638: 5.048782345863015e-05,\n",
              " 639: 5.048782345863015e-05,\n",
              " 640: 5.048782345863015e-05,\n",
              " 641: 5.517865004599079e-05,\n",
              " 642: 0.00011921326796672982,\n",
              " 643: 8.346453395323605e-05,\n",
              " 644: 5.048782345863015e-05,\n",
              " 645: 5.048782345863015e-05,\n",
              " 646: 0.00013487456757522206,\n",
              " 647: 5.048782345863015e-05,\n",
              " 648: 5.048782345863015e-05,\n",
              " 649: 5.048782345863015e-05,\n",
              " 650: 0.000414283740461263,\n",
              " 651: 5.048782345863015e-05,\n",
              " 652: 0.00017738177851023702,\n",
              " 653: 5.048782345863015e-05,\n",
              " 654: 5.048782345863015e-05,\n",
              " 655: 5.048782345863015e-05,\n",
              " 656: 7.981990818400771e-05,\n",
              " 657: 5.048782345863015e-05,\n",
              " 658: 5.048782345863015e-05,\n",
              " 659: 5.048782345863015e-05,\n",
              " 660: 5.048782345863015e-05,\n",
              " 661: 7.59133032415095e-05,\n",
              " 662: 5.048782345863015e-05,\n",
              " 663: 0.0003962082076373903,\n",
              " 664: 5.048782345863015e-05,\n",
              " 665: 5.048782345863015e-05,\n",
              " 666: 5.048782345863015e-05,\n",
              " 667: 0.0009062861925952251,\n",
              " 668: 0.0005028055176424478,\n",
              " 669: 5.048782345863015e-05,\n",
              " 670: 5.048782345863015e-05,\n",
              " 671: 5.048782345863015e-05,\n",
              " 672: 5.048782345863015e-05,\n",
              " 673: 5.048782345863015e-05,\n",
              " 674: 5.048782345863015e-05,\n",
              " 675: 0.00021086122090755233,\n",
              " 676: 0.00018065934151752463,\n",
              " 677: 5.048782345863015e-05,\n",
              " 678: 5.048782345863015e-05,\n",
              " 679: 5.048782345863015e-05,\n",
              " 680: 5.048782345863015e-05,\n",
              " 681: 5.048782345863015e-05,\n",
              " 682: 5.048782345863015e-05,\n",
              " 683: 5.048782345863015e-05,\n",
              " 684: 9.38756452184361e-05,\n",
              " 685: 0.00031352887633242333,\n",
              " 686: 0.0005162157332439997,\n",
              " 687: 5.048782345863015e-05,\n",
              " 688: 8.299521640969148e-05,\n",
              " 689: 5.048782345863015e-05,\n",
              " 690: 5.048782345863015e-05,\n",
              " 691: 5.048782345863015e-05,\n",
              " 692: 5.048782345863015e-05,\n",
              " 693: 5.048782345863015e-05,\n",
              " 694: 0.0003319753593878795,\n",
              " 695: 5.048782345863015e-05,\n",
              " 696: 0.001719013317586535,\n",
              " 697: 5.048782345863015e-05,\n",
              " 698: 5.048782345863015e-05,\n",
              " 699: 5.540971147695448e-05,\n",
              " 700: 0.00012322009614687784,\n",
              " 701: 5.048782345863015e-05,\n",
              " 702: 5.048782345863015e-05,\n",
              " 703: 0.00023033117631120632,\n",
              " 704: 5.048782345863015e-05,\n",
              " 705: 5.048782345863015e-05,\n",
              " 706: 0.0005359035690033946,\n",
              " 707: 0.0002793784826844849,\n",
              " 708: 0.00017782545502729752,\n",
              " 709: 0.0003674616312414215,\n",
              " 710: 5.048782345863015e-05,\n",
              " 711: 0.0020416288860889164,\n",
              " 712: 5.048782345863015e-05,\n",
              " 713: 5.048782345863015e-05,\n",
              " 714: 5.048782345863015e-05,\n",
              " 715: 5.048782345863015e-05,\n",
              " 716: 0.0002892903392357494,\n",
              " 717: 5.048782345863015e-05,\n",
              " 718: 5.048782345863015e-05,\n",
              " 719: 5.048782345863015e-05,\n",
              " 720: 0.00039106468167038544,\n",
              " 721: 0.00020397898730008666,\n",
              " 722: 0.0006671234463345163,\n",
              " 723: 5.048782345863015e-05,\n",
              " 724: 9.350161227223087e-05,\n",
              " 725: 0.00015969314030211363,\n",
              " 726: 5.048782345863015e-05,\n",
              " 727: 5.048782345863015e-05,\n",
              " 728: 5.048782345863015e-05,\n",
              " 729: 0.0005785960097010069,\n",
              " 730: 5.048782345863015e-05,\n",
              " 731: 5.048782345863015e-05,\n",
              " 732: 5.048782345863015e-05,\n",
              " 733: 0.00015125303863269766,\n",
              " 734: 5.048782345863015e-05,\n",
              " 735: 5.048782345863015e-05,\n",
              " 736: 5.048782345863015e-05,\n",
              " 737: 5.048782345863015e-05,\n",
              " 738: 0.00015065607046072728,\n",
              " 739: 5.048782345863015e-05,\n",
              " 740: 0.0003744935296013581,\n",
              " 741: 5.048782345863015e-05,\n",
              " 742: 5.048782345863015e-05,\n",
              " 743: 5.048782345863015e-05,\n",
              " 744: 5.048782345863015e-05,\n",
              " 745: 5.048782345863015e-05,\n",
              " 746: 5.048782345863015e-05,\n",
              " 747: 5.048782345863015e-05,\n",
              " 748: 7.681096439593247e-05,\n",
              " 749: 5.048782345863015e-05,\n",
              " 750: 5.048782345863015e-05,\n",
              " 751: 5.048782345863015e-05,\n",
              " 752: 5.048782345863015e-05,\n",
              " 753: 5.048782345863015e-05,\n",
              " 754: 5.048782345863015e-05,\n",
              " 755: 0.0002513752653552382,\n",
              " 756: 5.9090581221350296e-05,\n",
              " 757: 5.048782345863015e-05,\n",
              " 758: 5.048782345863015e-05,\n",
              " 759: 5.048782345863015e-05,\n",
              " 760: 5.048782345863015e-05,\n",
              " 761: 5.048782345863015e-05,\n",
              " 762: 0.00023405385622869834,\n",
              " 763: 5.048782345863015e-05,\n",
              " 764: 8.090952272382307e-05,\n",
              " 765: 5.048782345863015e-05,\n",
              " 766: 5.048782345863015e-05,\n",
              " 767: 0.00030519978294190524,\n",
              " 768: 5.048782345863015e-05,\n",
              " 769: 5.048782345863015e-05,\n",
              " 770: 5.048782345863015e-05,\n",
              " 771: 5.048782345863015e-05,\n",
              " 772: 5.048782345863015e-05,\n",
              " 773: 5.048782345863015e-05,\n",
              " 774: 5.048782345863015e-05,\n",
              " 775: 5.6065287454672044e-05,\n",
              " 776: 5.048782345863015e-05,\n",
              " 777: 5.048782345863015e-05,\n",
              " 778: 5.048782345863015e-05,\n",
              " 779: 0.0002600565106352665,\n",
              " 780: 6.506333538710163e-05,\n",
              " 781: 5.048782345863015e-05,\n",
              " 782: 5.048782345863015e-05,\n",
              " 783: 5.048782345863015e-05,\n",
              " 784: 5.048782345863015e-05,\n",
              " 785: 5.048782345863015e-05,\n",
              " 786: 5.048782345863015e-05,\n",
              " 787: 5.048782345863015e-05,\n",
              " 788: 5.048782345863015e-05,\n",
              " 789: 5.048782345863015e-05,\n",
              " 790: 5.048782345863015e-05,\n",
              " 791: 0.00015669342486000486,\n",
              " 792: 5.048782345863015e-05,\n",
              " 793: 5.048782345863015e-05,\n",
              " 794: 0.0007189456797854513,\n",
              " 795: 5.048782345863015e-05,\n",
              " 796: 9.236252602452667e-05,\n",
              " 797: 5.048782345863015e-05,\n",
              " 798: 5.048782345863015e-05,\n",
              " 799: 0.00018541174515513894,\n",
              " 800: 5.048782345863015e-05,\n",
              " 801: 5.048782345863015e-05,\n",
              " 802: 5.048782345863015e-05,\n",
              " 803: 5.048782345863015e-05,\n",
              " 804: 5.048782345863015e-05,\n",
              " 805: 5.048782345863015e-05,\n",
              " 806: 5.048782345863015e-05,\n",
              " 807: 5.048782345863015e-05,\n",
              " 808: 0.0005001054605639591,\n",
              " 809: 5.048782345863015e-05,\n",
              " 810: 5.048782345863015e-05,\n",
              " 811: 5.048782345863015e-05,\n",
              " 812: 5.048782345863015e-05,\n",
              " 813: 5.048782345863015e-05,\n",
              " 814: 5.048782345863015e-05,\n",
              " 815: 0.00032256099082244465,\n",
              " 816: 5.048782345863015e-05,\n",
              " 817: 5.048782345863015e-05,\n",
              " 818: 5.048782345863015e-05,\n",
              " 819: 5.048782345863015e-05,\n",
              " 820: 5.048782345863015e-05,\n",
              " 821: 5.048782345863015e-05,\n",
              " 822: 0.0001484752210052611,\n",
              " 823: 5.048782345863015e-05,\n",
              " 824: 5.048782345863015e-05,\n",
              " 825: 0.00017201844047279565,\n",
              " 826: 5.048782345863015e-05,\n",
              " 827: 5.048782345863015e-05,\n",
              " 828: 5.048782345863015e-05,\n",
              " 829: 0.0017478626294191975,\n",
              " 830: 0.00032828126885884104,\n",
              " 831: 0.0001471261995444232,\n",
              " 832: 0.00012699137544860189,\n",
              " 833: 5.048782345863015e-05,\n",
              " 834: 5.048782345863015e-05,\n",
              " 835: 5.048782345863015e-05,\n",
              " 836: 5.048782345863015e-05,\n",
              " 837: 0.00020237851814598794,\n",
              " 838: 5.048782345863015e-05,\n",
              " 839: 0.00014855679985222568,\n",
              " 840: 0.0003785072510142108,\n",
              " 841: 5.048782345863015e-05,\n",
              " 842: 5.048782345863015e-05,\n",
              " 843: 5.048782345863015e-05,\n",
              " 844: 5.048782345863015e-05,\n",
              " 845: 5.048782345863015e-05,\n",
              " 846: 0.00022084771935117006,\n",
              " 847: 0.0001814038395590096,\n",
              " 848: 0.0004018502819275666,\n",
              " 849: 5.048782345863015e-05,\n",
              " 850: 5.048782345863015e-05,\n",
              " 851: 5.048782345863015e-05,\n",
              " 852: 5.048782345863015e-05,\n",
              " 853: 5.048782345863015e-05,\n",
              " 854: 5.048782345863015e-05,\n",
              " 855: 5.048782345863015e-05,\n",
              " 856: 0.0001722208560783936,\n",
              " 857: 5.048782345863015e-05,\n",
              " 858: 0.0007128364204687784,\n",
              " 859: 5.048782345863015e-05,\n",
              " 860: 0.0005845140873337324,\n",
              " 861: 5.048782345863015e-05,\n",
              " 862: 5.048782345863015e-05,\n",
              " 863: 5.048782345863015e-05,\n",
              " 864: 5.048782345863015e-05,\n",
              " 865: 5.048782345863015e-05,\n",
              " 866: 0.0006550278293514916,\n",
              " 867: 5.048782345863015e-05,\n",
              " 868: 5.048782345863015e-05,\n",
              " 869: 5.048782345863015e-05,\n",
              " 870: 0.0006771396693692119,\n",
              " 871: 5.048782345863015e-05,\n",
              " 872: 0.0003388477759524275,\n",
              " 873: 5.048782345863015e-05,\n",
              " 874: 5.048782345863015e-05,\n",
              " 875: 5.048782345863015e-05,\n",
              " 876: 0.0001411494668752568,\n",
              " 877: 5.048782345863015e-05,\n",
              " 878: 5.048782345863015e-05,\n",
              " 879: 7.199471786543051e-05,\n",
              " 880: 5.048782345863015e-05,\n",
              " 881: 0.0012035351707928477,\n",
              " 882: 5.048782345863015e-05,\n",
              " 883: 5.048782345863015e-05,\n",
              " 884: 0.0004025218101113244,\n",
              " 885: 5.048782345863015e-05,\n",
              " 886: 5.048782345863015e-05,\n",
              " 887: 5.048782345863015e-05,\n",
              " 888: 0.0002775639451652302,\n",
              " 889: 5.048782345863015e-05,\n",
              " 890: 0.001071032708025259,\n",
              " 891: 0.0005580254674335256,\n",
              " 892: 0.0001446105464224886,\n",
              " 893: 7.56775781626783e-05,\n",
              " 894: 5.048782345863015e-05,\n",
              " 895: 5.048782345863015e-05,\n",
              " 896: 5.048782345863015e-05,\n",
              " 897: 0.00032665544783563004,\n",
              " 898: 0.0007027293054642878,\n",
              " 899: 5.048782345863015e-05,\n",
              " 900: 5.048782345863015e-05,\n",
              " 901: 0.0002992116732806831,\n",
              " 902: 5.048782345863015e-05,\n",
              " 903: 0.00018250603925776496,\n",
              " 904: 5.048782345863015e-05,\n",
              " 905: 5.048782345863015e-05,\n",
              " 906: 6.112244322882886e-05,\n",
              " 907: 0.00016496664840568204,\n",
              " 908: 5.048782345863015e-05,\n",
              " 909: 5.048782345863015e-05,\n",
              " 910: 5.048782345863015e-05,\n",
              " 911: 5.048782345863015e-05,\n",
              " 912: 0.0006226883939193939,\n",
              " 913: 5.048782345863015e-05,\n",
              " 914: 5.048782345863015e-05,\n",
              " 915: 5.048782345863015e-05,\n",
              " 916: 0.0004919340279504549,\n",
              " 917: 5.048782345863015e-05,\n",
              " 918: 0.00033791382417215664,\n",
              " 919: 5.048782345863015e-05,\n",
              " 920: 5.048782345863015e-05,\n",
              " 921: 0.00019521930727440997,\n",
              " 922: 0.00037249569314289305,\n",
              " 923: 0.00038220239805539463,\n",
              " 924: 0.0005142907843421555,\n",
              " 925: 5.048782345863015e-05,\n",
              " 926: 0.0002738669766492546,\n",
              " 927: 5.048782345863015e-05,\n",
              " 928: 5.048782345863015e-05,\n",
              " 929: 5.048782345863015e-05,\n",
              " 930: 5.5842244743117535e-05,\n",
              " 931: 5.048782345863015e-05,\n",
              " 932: 5.048782345863015e-05,\n",
              " 933: 5.048782345863015e-05,\n",
              " 934: 5.048782345863015e-05,\n",
              " 935: 5.048782345863015e-05,\n",
              " 936: 5.048782345863015e-05,\n",
              " 937: 0.0004192402418731778,\n",
              " 938: 0.0006626451259848334,\n",
              " 939: 5.048782345863015e-05,\n",
              " 940: 5.048782345863015e-05,\n",
              " 941: 0.0005707137147528225,\n",
              " 942: 5.048782345863015e-05,\n",
              " 943: 5.048782345863015e-05,\n",
              " 944: 0.00023528233103830846,\n",
              " 945: 5.048782345863015e-05,\n",
              " 946: 5.048782345863015e-05,\n",
              " 947: 5.048782345863015e-05,\n",
              " 948: 5.048782345863015e-05,\n",
              " 949: 5.048782345863015e-05,\n",
              " 950: 0.0002927748895751096,\n",
              " 951: 5.048782345863015e-05,\n",
              " 952: 5.048782345863015e-05,\n",
              " 953: 5.048782345863015e-05,\n",
              " 954: 0.00010309515792015407,\n",
              " 955: 5.048782345863015e-05,\n",
              " 956: 5.048782345863015e-05,\n",
              " 957: 5.048782345863015e-05,\n",
              " 958: 0.0006076925581037549,\n",
              " 959: 0.0004756126138590225,\n",
              " 960: 5.048782345863015e-05,\n",
              " 961: 5.048782345863015e-05,\n",
              " 962: 5.048782345863015e-05,\n",
              " 963: 5.048782345863015e-05,\n",
              " 964: 5.048782345863015e-05,\n",
              " 965: 5.048782345863015e-05,\n",
              " 966: 0.00013945964879425653,\n",
              " 967: 5.048782345863015e-05,\n",
              " 968: 5.048782345863015e-05,\n",
              " 969: 5.048782345863015e-05,\n",
              " 970: 5.048782345863015e-05,\n",
              " 971: 5.048782345863015e-05,\n",
              " 972: 5.048782345863015e-05,\n",
              " 973: 0.00025297615874247205,\n",
              " 974: 0.00368122072952927,\n",
              " 975: 5.048782345863015e-05,\n",
              " 976: 5.048782345863015e-05,\n",
              " 977: 5.048782345863015e-05,\n",
              " 978: 0.00019480863303386373,\n",
              " 979: 0.0009160416692283016,\n",
              " 980: 5.048782345863015e-05,\n",
              " 981: 5.048782345863015e-05,\n",
              " 982: 5.048782345863015e-05,\n",
              " 983: 5.048782345863015e-05,\n",
              " 984: 5.048782345863015e-05,\n",
              " 985: 5.048782345863015e-05,\n",
              " 986: 9.7611354817873e-05,\n",
              " 987: 0.0003523777084579039,\n",
              " 988: 0.0001713743905638185,\n",
              " 989: 0.00045793094724974034,\n",
              " 990: 5.048782345863015e-05,\n",
              " 991: 0.00020797030410607333,\n",
              " 992: 0.0003161658777475742,\n",
              " 993: 0.0002543576681210968,\n",
              " 994: 5.048782345863015e-05,\n",
              " 995: 0.0005157729567889809,\n",
              " 996: 5.048782345863015e-05,\n",
              " 997: 5.048782345863015e-05,\n",
              " 998: 6.442362192162722e-05,\n",
              " 999: 0.00020797665000103335,\n",
              " ...}"
            ]
          },
          "metadata": {
            "tags": []
          },
          "execution_count": 112
        }
      ]
    },
    {
      "cell_type": "markdown",
      "metadata": {
        "id": "w5CuCX1lfEUS",
        "colab_type": "text"
      },
      "source": [
        "**Hub and authority of each node**"
      ]
    },
    {
      "cell_type": "code",
      "metadata": {
        "id": "i0T8DzpZbnpc",
        "colab_type": "code",
        "colab": {}
      },
      "source": [
        "hub,authority = nx.hits(G)"
      ],
      "execution_count": 0,
      "outputs": []
    },
    {
      "cell_type": "code",
      "metadata": {
        "id": "AmAyAcl8fJAV",
        "colab_type": "code",
        "colab": {}
      },
      "source": [
        "hub "
      ],
      "execution_count": 0,
      "outputs": []
    },
    {
      "cell_type": "code",
      "metadata": {
        "id": "4McVm-0Xfgin",
        "colab_type": "code",
        "colab": {}
      },
      "source": [
        "authority "
      ],
      "execution_count": 0,
      "outputs": []
    },
    {
      "cell_type": "markdown",
      "metadata": {
        "id": "nJn0y05Ideze",
        "colab_type": "text"
      },
      "source": [
        "**Comparison between the three**"
      ]
    },
    {
      "cell_type": "code",
      "metadata": {
        "id": "XkxNUKEudekx",
        "colab_type": "code",
        "colab": {}
      },
      "source": [
        "r = list(rank.values())"
      ],
      "execution_count": 0,
      "outputs": []
    },
    {
      "cell_type": "code",
      "metadata": {
        "id": "LAvfsJ4wdvGf",
        "colab_type": "code",
        "colab": {}
      },
      "source": [
        "a = list(authority.values())"
      ],
      "execution_count": 0,
      "outputs": []
    },
    {
      "cell_type": "code",
      "metadata": {
        "id": "hJkE2juqdyi4",
        "colab_type": "code",
        "colab": {}
      },
      "source": [
        "h = list(hub.values())"
      ],
      "execution_count": 0,
      "outputs": []
    },
    {
      "cell_type": "code",
      "metadata": {
        "id": "7-5vg8BKd82x",
        "colab_type": "code",
        "colab": {}
      },
      "source": [
        "n = list(mapping.values())"
      ],
      "execution_count": 0,
      "outputs": []
    },
    {
      "cell_type": "code",
      "metadata": {
        "id": "TLELAI0nevBX",
        "colab_type": "code",
        "outputId": "f4bb1ea3-a0f5-44a3-d4e9-22eefdbf3961",
        "colab": {
          "base_uri": "https://localhost:8080/",
          "height": 606
        }
      },
      "source": [
        "plt.figure(figsize=(10,10))\n",
        "for x1,y1,y2,y3 in zip(n,r,a,h):\n",
        "  plt.plot(x1,y1,'g^',label = \"rank\")                  # for rank\n",
        "  plt.plot(x1,y2,'ro',label = \"authority\")             # for authority\n",
        "  plt.plot(x1,y3,'bs',label = \"hub\")                   # for hub\n",
        "\n",
        "plt.ylabel(\"Web page scores\")\n",
        "plt.xlabel(\"Nodes\")\n",
        "plt.legend(['rank','authority','hub'], loc='best')\n",
        "plt.show()"
      ],
      "execution_count": 0,
      "outputs": [
        {
          "output_type": "display_data",
          "data": {
            "image/png": "[encoded data removed]",
            "text/plain": [
              "<Figure size 720x720 with 1 Axes>"
            ]
          },
          "metadata": {
            "tags": [],
            "needs_background": "light"
          }
        }
      ]
    },
    {
      "cell_type": "code",
      "metadata": {
        "id": "HubLF9X05HeZ",
        "colab_type": "code",
        "outputId": "df82ba41-fdd1-4d26-fafd-008cc0f309fb",
        "colab": {
          "base_uri": "https://localhost:8080/",
          "height": 606
        }
      },
      "source": [
        "f, axs = plt.subplots(3,2,figsize=(10,10))\n",
        "\n",
        "plt.subplot(311)\n",
        "plt.plot(n,r,'g^')\n",
        "# plt.xlim(0, 900)\n",
        "plt.ylim(0,0.009)\n",
        "plt.ylabel(\"Rank\")\n",
        "plt.xlabel(\"Nodes\")\n",
        "\n",
        "plt.subplot(312)\n",
        "plt.plot(n,a,'g^')\n",
        "# plt.xlim(0, 900)\n",
        "plt.ylim(0,0.009)\n",
        "plt.ylabel(\"Authority\")\n",
        "plt.xlabel(\"Nodes\")\n",
        "\n",
        "plt.subplot(313)\n",
        "plt.plot(n,h,'g^')\n",
        "# plt.xlim(0, 900)\n",
        "plt.ylim(0,0.009)\n",
        "plt.ylabel(\"Hub\")\n",
        "plt.xlabel(\"Nodes\")\n",
        "\n",
        "plt.show()"
      ],
      "execution_count": 0,
      "outputs": [
        {
          "output_type": "display_data",
          "data": {
            "image/png": "[encoded data removed]",
            "text/plain": [
              "<Figure size 720x720 with 3 Axes>"
            ]
          },
          "metadata": {
            "tags": [],
            "needs_background": "light"
          }
        }
      ]
    },
    {
      "cell_type": "markdown",
      "metadata": {
        "id": "aiAoAl-0zU_H",
        "colab_type": "text"
      },
      "source": [
        "**finding top 10 results**"
      ]
    },
    {
      "cell_type": "code",
      "metadata": {
        "id": "rFxMshCNfPUi",
        "colab_type": "code",
        "outputId": "778eb587-826a-485a-e242-d12a5add4c5d",
        "colab": {
          "base_uri": "https://localhost:8080/",
          "height": 54
        }
      },
      "source": [
        "top_rank = heapq.nlargest(10, rank.items(), key=lambda x: x[1])\n",
        "print(top_rank)"
      ],
      "execution_count": 0,
      "outputs": [
        {
          "output_type": "stream",
          "text": [
            "[(1902, 0.004612715891167531), (974, 0.00368122072952927), (3322, 0.0035248136576402542), (4206, 0.0032863743692308975), (1247, 0.002605333171725015), (1361, 0.0025301053283849494), (3209, 0.0025047038004839873), (3887, 0.002266263304236342), (1931, 0.0021701850491959566), (4820, 0.0021500675059293213)]\n"
          ],
          "name": "stdout"
        }
      ]
    },
    {
      "cell_type": "code",
      "metadata": {
        "id": "MutqQL9QwiRx",
        "colab_type": "code",
        "outputId": "d5aad914-49cd-4a34-b27e-d4167faaaaab",
        "colab": {
          "base_uri": "https://localhost:8080/",
          "height": 54
        }
      },
      "source": [
        "top_authority = heapq.nlargest(10, authority.items(), key=lambda x: x[1])\n",
        "print(top_authority)"
      ],
      "execution_count": 0,
      "outputs": [
        {
          "output_type": "stream",
          "text": [
            "[(1247, 0.002580147178008915), (1902, 0.0025732411241428006), (1393, 0.0023284150915378952), (6588, 0.0023037314804751022), (829, 0.0022558748563742364), (3696, 0.0022534066884266407), (4348, 0.0022501446367953534), (569, 0.002223564103945867), (974, 0.0022015434925438102), (4206, 0.0021978968035237826)]\n"
          ],
          "name": "stdout"
        }
      ]
    },
    {
      "cell_type": "code",
      "metadata": {
        "id": "xFHFMt46yzNZ",
        "colab_type": "code",
        "outputId": "8bc73b8a-eaac-422a-c41b-ee504a3eb8fd",
        "colab": {
          "base_uri": "https://localhost:8080/",
          "height": 54
        }
      },
      "source": [
        "top_hub = heapq.nlargest(10, hub.items(), key=lambda x: x[1])\n",
        "print(top_hub)"
      ],
      "execution_count": 0,
      "outputs": [
        {
          "output_type": "stream",
          "text": [
            "[(569, 0.007940492708074044), (5858, 0.00757433529744451), (1689, 0.006440248991012537), (5185, 0.006416870490195661), (2783, 0.00601056790243335), (6588, 0.005720754058398654), (5147, 0.004921182064008291), (1619, 0.004572040701802761), (3185, 0.004467888792672382), (3663, 0.0039188817320476325)]\n"
          ],
          "name": "stdout"
        }
      ]
    },
    {
      "cell_type": "code",
      "metadata": {
        "id": "ItP28MvBy3_t",
        "colab_type": "code",
        "colab": {}
      },
      "source": [
        ""
      ],
      "execution_count": 0,
      "outputs": []
    }
  ]
}